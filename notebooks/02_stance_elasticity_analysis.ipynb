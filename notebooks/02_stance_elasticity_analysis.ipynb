{
 "cells": [
  {
   "cell_type": "markdown",
   "metadata": {},
   "source": [
    "# LLM Sycophancy Analysis - Part 2: Stance Elasticity & Devil's Advocate\n",
    "\n",
    "This notebook analyzes stance-elasticity curves and devil's advocate deltas.\n",
    "\n",
    "## Key Analyses\n",
    "1. **Stance-Elasticity Curves**: How models change agreement based on prompt strength\n",
    "2. **Devil's-Advocate Delta**: Resistance to critical thinking instructions\n",
    "3. **Topic-Transfer Effects**: How elasticity varies across different topics"
   ]
  },
  {
   "cell_type": "code",
   "execution_count": null,
   "metadata": {},
   "outputs": [],
   "source": [
    "import json\n",
    "import pandas as pd\n",
    "import numpy as np\n",
    "import matplotlib.pyplot as plt\n",
    "import seaborn as sns\n",
    "from pathlib import Path\n",
    "from scipy import stats\n",
    "import plotly.express as px\n",
    "import plotly.graph_objects as go\n",
    "from plotly.subplots import make_subplots\n",
    "\n",
    "plt.style.use('seaborn-v0_8')\n",
    "sns.set_palette(\"husl\")\n",
    "%matplotlib inline"
   ]
  },
  {
   "cell_type": "markdown",
   "metadata": {},
   "source": [
    "## 1. Load Processed Data"
   ]
  },
  {
   "cell_type": "code",
   "execution_count": null,
   "metadata": {},
   "outputs": [],
   "source": [
    "# Load processed data from notebook 01\n",
    "scored_df = pd.read_json('../results/combined_run_0c_1_1b/scored_responses_processed.json')\n",
    "delta_df = pd.read_json('../results/combined_run_0c_1_1b/delta_processed.json')\n",
    "\n",
    "with open('../results/combined_run_0c_1_1b/strength_curves.json', 'r') as f:\n",
    "    curves_data = json.load(f)\n",
    "\n",
    "print(f\"Loaded {len(scored_df)} scored responses\")\n",
    "print(f\"Loaded {len(delta_df)} delta measurements\")\n",
    "print(f\"Loaded curves for {len(curves_data)} models\")"
   ]
  },
  {
   "cell_type": "markdown",
   "metadata": {},
   "source": [
    "## 2. Stance-Elasticity Curves Analysis"
   ]
  },
  {
   "cell_type": "code",
   "execution_count": null,
   "metadata": {},
   "outputs": [],
   "source": [
    "# Extract elasticity data for visualization\n",
    "elasticity_data = []\n",
    "for model, curves in curves_data.items():\n",
    "    for prompt_type in ['regular', 'devil']:\n",
    "        if prompt_type in curves:\n",
    "            curve = curves[prompt_type]\n",
    "            for point in curve['points']:\n",
    "                elasticity_data.append({\n",
    "                    'model': model,\n",
    "                    'prompt_type': prompt_type,\n",
    "                    'strength': point['strength'],\n",
    "                    'endorse_stance': point['endorse'],\n",
    "                    'ols_slope': curve['ols_slope'],\n",
    "                    'AE_standardized': curve['AE_standardized']\n",
    "                })\n",
    "\n",
    "elasticity_df = pd.DataFrame(elasticity_data)\n",
    "print(f\"Elasticity data points: {len(elasticity_df)}\")\n",
    "elasticity_df.head()"
   ]
  },
  {
   "cell_type": "markdown",
   "metadata": {},
   "source": [
    "### Chart 2: Small-Multiples Line Plots - Stance Elasticity by Model"
   ]
  },
  {
   "cell_type": "code",
   "execution_count": null,
   "metadata": {},
   "outputs": [],
   "source": [
    "# Create small multiples plot for stance elasticity\n",
    "models = elasticity_df['model'].unique()\n",
    "n_models = len(models)\n",
    "cols = 3\n",
    "rows = (n_models + cols - 1) // cols\n",
    "\n",
    "fig, axes = plt.subplots(rows, cols, figsize=(15, 4*rows))\n",
    "axes = axes.flatten() if rows > 1 else [axes] if cols == 1 else axes\n",
    "\n",
    "for i, model in enumerate(models):\n",
    "    ax = axes[i]\n",
    "    model_data = elasticity_df[elasticity_df['model'] == model]\n",
    "    \n",
    "    for prompt_type in ['regular', 'devil']:\n",
    "        type_data = model_data[model_data['prompt_type'] == prompt_type]\n",
    "        if not type_data.empty:\n",
    "            ax.plot(type_data['strength'], type_data['endorse_stance'], \n",
    "                   marker='o', label=prompt_type, linewidth=2)\n",
    "    \n",
    "    # Add AE annotation\n",
    "    regular_ae = model_data[model_data['prompt_type'] == 'regular']['AE_standardized'].iloc[0] if not model_data[model_data['prompt_type'] == 'regular'].empty else 0\n",
    "    ax.set_title(f'{model}\\nAE = {regular_ae:.3f}', fontsize=10)\n",
    "    ax.set_xlabel('Strength')\n",
    "    ax.set_ylabel('Endorse Stance')\n",
    "    ax.legend()\n",
    "    ax.grid(True, alpha=0.3)\n",
    "\n",
    "# Hide empty subplots\n",
    "for i in range(n_models, len(axes)):\n",
    "    axes[i].set_visible(False)\n",
    "\n",
    "plt.tight_layout()\n",
    "plt.suptitle('Stance-Elasticity Curves by Model', fontsize=16, y=1.02)\n",
    "plt.show()"
   ]
  },
  {
   "cell_type": "markdown",
   "metadata": {},
   "source": [
    "### Elasticity Index Rankings"
   ]
  },
  {
   "cell_type": "code",
   "execution_count": null,
   "metadata": {},
   "outputs": [],
   "source": [
    "# Create elasticity rankings\n",
    "ae_rankings = elasticity_df[elasticity_df['prompt_type'] == 'regular'].groupby('model')['AE_standardized'].first().sort_values(ascending=False)\n",
    "\n",
    "print(\"=== STANCE-ELASTICITY RANKINGS ===\")\n",
    "print(\"(Higher AE = more sensitive to prompt strength)\\n\")\n",
    "\n",
    "for i, (model, ae) in enumerate(ae_rankings.items(), 1):\n",
    "    category = \"High\" if ae > 0.1 else \"Medium\" if ae > 0.05 else \"Low\"\n",
    "    print(f\"{i:2d}. {model:<25} AE = {ae:.3f} ({category})\")\n",
    "\n",
    "# Visualization\n",
    "plt.figure(figsize=(12, 6))\n",
    "bars = plt.bar(range(len(ae_rankings)), ae_rankings.values)\n",
    "plt.xticks(range(len(ae_rankings)), ae_rankings.index, rotation=45, ha='right')\n",
    "plt.ylabel('Attitude Elasticity (AE)')\n",
    "plt.title('Model Stance-Elasticity Rankings')\n",
    "plt.axhline(y=0.1, color='red', linestyle='--', alpha=0.7, label='High Elasticity Threshold')\n",
    "plt.legend()\n",
    "plt.grid(True, alpha=0.3)\n",
    "plt.tight_layout()\n",
    "plt.show()"
   ]
  },
  {
   "cell_type": "markdown",
   "metadata": {},
   "source": [
    "## 3. Devil's-Advocate Delta Analysis"
   ]
  },
  {
   "cell_type": "markdown",
   "metadata": {},
   "source": [
    "### Chart 3: Heat-map - Devil's Advocate Resistance by Model and Topic"
   ]
  },
  {
   "cell_type": "code",
   "execution_count": null,
   "metadata": {},
   "outputs": [],
   "source": [
    "# Create pivot table for heatmap\n",
    "delta_pivot = delta_df.pivot(index='model', columns='topic', values='delta')\n",
    "\n",
    "# Create heatmap\n",
    "plt.figure(figsize=(12, 8))\n",
    "sns.heatmap(delta_pivot, annot=True, fmt='.3f', cmap='RdYlBu_r', center=0,\n",
    "            cbar_kws={'label': \"Devil's Advocate Delta (Δ)\"}, \n",
    "            linewidths=0.5)\n",
    "plt.title(\"Devil's Advocate Resistance by Model and Topic\\n(Positive Δ = Model Resists Critical Instructions)\")\n",
    "plt.xlabel('Topic')\n",
    "plt.ylabel('Model')\n",
    "plt.xticks(rotation=45, ha='right')\n",
    "plt.yticks(rotation=0)\n",
    "plt.tight_layout()\n",
    "plt.show()\n",
    "\n",
    "print(\"\\n=== INTERPRETATION ===\")\n",
    "print(\"• Positive Δ: Model maintains stance despite 'devil's advocate' instruction\")\n",
    "print(\"• Negative Δ: Model becomes more critical when asked\")\n",
    "print(\"• Zero Δ: No difference between regular and devil's advocate prompts\")"
   ]
  },
  {
   "cell_type": "markdown",
   "metadata": {},
   "source": [
    "### Delta Statistics and Insights"
   ]
  },
  {
   "cell_type": "code",
   "execution_count": null,
   "metadata": {},
   "outputs": [],
   "source": [
    "# Delta statistics\n",
    "print(\"=== DEVIL'S ADVOCATE DELTA STATISTICS ===\")\n",
    "\n",
    "# Overall statistics\n",
    "valid_deltas = delta_df['delta'].dropna()\n",
    "print(f\"\\nOverall Delta Distribution:\")\n",
    "print(f\"Mean: {valid_deltas.mean():.3f}\")\n",
    "print(f\"Std:  {valid_deltas.std():.3f}\")\n",
    "print(f\"Min:  {valid_deltas.min():.3f}\")\n",
    "print(f\"Max:  {valid_deltas.max():.3f}\")\n",
    "\n",
    "# Most resistant models (highest positive delta)\n",
    "model_avg_delta = delta_df.groupby('model')['delta'].mean().sort_values(ascending=False)\n",
    "print(f\"\\nMost Resistant Models (Top 5):\")\n",
    "for i, (model, delta) in enumerate(model_avg_delta.head().items(), 1):\n",
    "    print(f\"{i}. {model}: Δ = {delta:.3f}\")\n",
    "\n",
    "# Most compliant models (lowest/negative delta)\n",
    "print(f\"\\nMost Compliant Models (Bottom 5):\")\n",
    "for i, (model, delta) in enumerate(model_avg_delta.tail().items(), 1):\n",
    "    print(f\"{i}. {model}: Δ = {delta:.3f}\")\n",
    "\n",
    "# Topic-specific resistance\n",
    "topic_avg_delta = delta_df.groupby('topic')['delta'].mean().sort_values(ascending=False)\n",
    "print(f\"\\nTopics with Highest Resistance:\")\n",
    "for topic, delta in topic_avg_delta.items():\n",
    "    print(f\"• {topic}: Δ = {delta:.3f}\")"
   ]
  },
  {
   "cell_type": "markdown",
   "metadata": {},
   "source": [
    "## 4. Topic-Transfer Analysis"
   ]
  },
  {
   "cell_type": "code",
   "execution_count": null,
   "metadata": {},
   "outputs": [],
   "source": [
    "# Analyze within-model topic variance\n",
    "if 'endorse_stance' in scored_df.columns:\n",
    "    # Calculate coefficient of variation for each model across topics\n",
    "    model_topic_variance = []\n",
    "    \n",
    "    for model in scored_df['model'].unique():\n",
    "        model_data = scored_df[scored_df['model'] == model]\n",
    "        topic_means = model_data.groupby('topic')['endorse_stance'].mean()\n",
    "        \n",
    "        if len(topic_means) > 1:\n",
    "            cv = topic_means.std() / topic_means.mean() if topic_means.mean() != 0 else 0\n",
    "            model_topic_variance.append({\n",
    "                'model': model,\n",
    "                'topic_cv': cv,\n",
    "                'topic_std': topic_means.std(),\n",
    "                'topic_mean': topic_means.mean(),\n",
    "                'stability': 'Stable' if cv < 0.2 else 'Chameleon'\n",
    "            })\n",
    "    \n",
    "    variance_df = pd.DataFrame(model_topic_variance)\n",
    "    \n",
    "    # Visualization\n",
    "    plt.figure(figsize=(12, 6))\n",
    "    colors = ['skyblue' if x == 'Stable' else 'orange' for x in variance_df['stability']]\n",
    "    bars = plt.bar(range(len(variance_df)), variance_df['topic_cv'], color=colors)\n",
    "    plt.xticks(range(len(variance_df)), variance_df['model'], rotation=45, ha='right')\n",
    "    plt.ylabel('Coefficient of Variation Across Topics')\n",
    "    plt.title('Model Stability vs Chameleon Behavior Across Topics')\n",
    "    plt.axhline(y=0.2, color='red', linestyle='--', alpha=0.7, label='Stability Threshold')\n",
    "    \n",
    "    # Add legend\n",
    "    from matplotlib.patches import Patch\n",
    "    legend_elements = [Patch(facecolor='skyblue', label='Stable'),\n",
    "                      Patch(facecolor='orange', label='Chameleon'),\n",
    "                      plt.Line2D([0], [0], color='red', linestyle='--', label='Threshold')]\n",
    "    plt.legend(handles=legend_elements)\n",
    "    plt.grid(True, alpha=0.3)\n",
    "    plt.tight_layout()\n",
    "    plt.show()\n",
    "    \n",
    "    print(\"\\n=== TOPIC STABILITY ANALYSIS ===\")\n",
    "    stable_models = variance_df[variance_df['stability'] == 'Stable']['model'].tolist()\n",
    "    chameleon_models = variance_df[variance_df['stability'] == 'Chameleon']['model'].tolist()\n",
    "    \n",
    "    print(f\"Stable Models ({len(stable_models)}): {', '.join(stable_models)}\")\n",
    "    print(f\"Chameleon Models ({len(chameleon_models)}): {', '.join(chameleon_models)}\")"
   ]
  },
  {
   "cell_type": "markdown",
   "metadata": {},
   "source": [
    "## 5. Correlation Analysis: Elasticity vs Delta"
   ]
  },
  {
   "cell_type": "code",
   "execution_count": null,
   "metadata": {},
   "outputs": [],
   "source": [
    "# Merge elasticity and delta data for correlation analysis\n",
    "model_ae = elasticity_df[elasticity_df['prompt_type'] == 'regular'].groupby('model')['AE_standardized'].first()\n",
    "model_delta = delta_df.groupby('model')['delta'].mean()\n",
    "\n",
    "correlation_data = pd.DataFrame({\n",
    "    'model': model_ae.index,\n",
    "    'AE_standardized': model_ae.values,\n",
    "    'avg_delta': model_delta.reindex(model_ae.index).values\n",
    "}).dropna()\n",
    "\n",
    "# Calculate correlation\n",
    "correlation = correlation_data['AE_standardized'].corr(correlation_data['avg_delta'])\n",
    "\n",
    "# Scatter plot\n",
    "plt.figure(figsize=(10, 6))\n",
    "plt.scatter(correlation_data['AE_standardized'], correlation_data['avg_delta'], \n",
    "           s=100, alpha=0.7, c='steelblue')\n",
    "\n",
    "# Add model labels\n",
    "for _, row in correlation_data.iterrows():\n",
    "    plt.annotate(row['model'], (row['AE_standardized'], row['avg_delta']), \n",
    "                xytext=(5, 5), textcoords='offset points', fontsize=8, alpha=0.8)\n",
    "\n",
    "# Add trend line\n",
    "z = np.polyfit(correlation_data['AE_standardized'], correlation_data['avg_delta'], 1)\n",
    "p = np.poly1d(z)\n",
    "plt.plot(correlation_data['AE_standardized'], p(correlation_data['AE_standardized']), \n",
    "         \"r--\", alpha=0.8, linewidth=2)\n",
    "\n",
    "plt.xlabel('Attitude Elasticity (AE)')\n",
    "plt.ylabel('Average Devil\\'s Advocate Delta (Δ)')\n",
    "plt.title(f'Elasticity vs Devil\\'s Advocate Resistance\\n(Correlation: r = {correlation:.3f})')\n",
    "plt.grid(True, alpha=0.3)\n",
    "plt.tight_layout()\n",
    "plt.show()\n",
    "\n",
    "print(f\"\\n=== CORRELATION ANALYSIS ===\")\n",
    "print(f\"Correlation between AE and Δ: r = {correlation:.3f}\")\n",
    "if abs(correlation) > 0.5:\n",
    "    direction = \"positive\" if correlation > 0 else \"negative\"\n",
    "    print(f\"Strong {direction} correlation detected!\")\n",
    "    if correlation > 0:\n",
    "        print(\"→ Models with higher elasticity tend to resist devil's advocate instructions more\")\n",
    "    else:\n",
    "        print(\"→ Models with higher elasticity tend to be more compliant with devil's advocate instructions\")\n",
    "else:\n",
    "    print(\"Weak correlation - elasticity and devil's advocate resistance appear independent\")"
   ]
  },
  {
   "cell_type": "markdown",
   "metadata": {},
   "source": [
    "## 6. Key Insights Summary"
   ]
  },
  {
   "cell_type": "code",
   "execution_count": null,
   "metadata": {},
   "outputs": [],
   "source": [
    "print(\"=== STANCE ELASTICITY & DEVIL'S ADVOCATE: KEY INSIGHTS ===\")\n",
    "print()\n",
    "\n",
    "# Top insights\n",
    "highest_ae_model = ae_rankings.index[0]\n",
    "highest_ae_value = ae_rankings.iloc[0]\n",
    "\n",
    "most_resistant_model = model_avg_delta.index[0]\n",
    "most_resistant_delta = model_avg_delta.iloc[0]\n",
    "\n",
    "print(f\"🎯 ELASTICITY CHAMPION: {highest_ae_model}\")\n",
    "print(f\"   • AE = {highest_ae_value:.3f} - most sensitive to prompt strength\")\n",
    "print(f\"   • Flips from disagree to agree with strength changes\")\n",
    "print()\n",
    "\n",
    "print(f\"🛡️  RESISTANCE CHAMPION: {most_resistant_model}\")\n",
    "print(f\"   • Δ = {most_resistant_delta:.3f} - maintains stance despite critical instructions\")\n",
    "print(f\"   • Shows strong sycophantic tendencies\")\n",
    "print()\n",
    "\n",
    "if 'stability' in locals() and len(stable_models) > 0:\n",
    "    print(f\"⚖️  MOST STABLE: {stable_models[0] if stable_models else 'None'}\")\n",
    "    print(f\"   • Consistent behavior across all topics\")\n",
    "    print()\n",
    "\n",
    "print(f\"📊 CORRELATION INSIGHT:\")\n",
    "if abs(correlation) > 0.5:\n",
    "    print(f\"   • Strong correlation (r={correlation:.3f}) between elasticity and resistance\")\n",
    "else:\n",
    "    print(f\"   • Weak correlation (r={correlation:.3f}) - independent traits\")\n",
    "print()\n",
    "\n",
    "print(\"📈 NEXT ANALYSIS: Harm Validation Profiling (Notebook 03)\")"
   ]
  }
 ],
 "metadata": {
  "kernelspec": {
   "display_name": "Python 3",
   "language": "python",
   "name": "python3"
  },
  "language_info": {
   "codemirror_mode": {
    "name": "ipython",
    "version": 3
   },
   "file_extension": ".py",
   "mimetype": "text/x-python",
   "name": "python",
   "nbconvert_exporter": "python",
   "pygments_lexer": "ipython3",
   "version": "3.11.0"
  }
 },
 "nbformat": 4,
 "nbformat_minor": 4
}
