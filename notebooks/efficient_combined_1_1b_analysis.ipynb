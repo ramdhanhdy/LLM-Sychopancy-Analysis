{
 "cells": [
  {
   "cell_type": "markdown",
   "metadata": {},
   "source": [
    "# Analysis of Efficient Combined 1_1b Results\n",
    "\n",
    "This notebook analyzes the results from the `efficient_combined_1_1b` run, including:\n",
    "- SSS (Sycophancy Similarity Scores) analysis\n",
    "- Network visualization with adjustable parameters\n",
    "- Model comparison and sycophancy patterns\n",
    "- Response-level analysis"
   ]
  },
  {
   "cell_type": "code",
   "execution_count": 3,
   "metadata": {},
   "outputs": [
    {
     "ename": "ImportError",
     "evalue": "cannot import name 'create_heatmap' from 'sycophancy_analysis.visualization' (e:\\Working\\Posts\\LLM Sychopancy Analysis\\sycophancy_analysis\\visualization\\__init__.py)",
     "output_type": "error",
     "traceback": [
      "\u001b[31m---------------------------------------------------------------------------\u001b[39m",
      "\u001b[31mImportError\u001b[39m                               Traceback (most recent call last)",
      "\u001b[36mCell\u001b[39m\u001b[36m \u001b[39m\u001b[32mIn[3]\u001b[39m\u001b[32m, line 12\u001b[39m\n\u001b[32m      9\u001b[39m project_root = Path().absolute().parent\n\u001b[32m     10\u001b[39m sys.path.append(\u001b[38;5;28mstr\u001b[39m(project_root))\n\u001b[32m---> \u001b[39m\u001b[32m12\u001b[39m \u001b[38;5;28;01mfrom\u001b[39;00m\u001b[38;5;250m \u001b[39m\u001b[34;01msycophancy_analysis\u001b[39;00m\u001b[34;01m.\u001b[39;00m\u001b[34;01mvisualization\u001b[39;00m\u001b[38;5;250m \u001b[39m\u001b[38;5;28;01mimport\u001b[39;00m (\n\u001b[32m     13\u001b[39m     plot_network, create_heatmap, compute_sycophancy_index,\n\u001b[32m     14\u001b[39m     create_network_sidecar\n\u001b[32m     15\u001b[39m )\n\u001b[32m     16\u001b[39m \u001b[38;5;28;01mfrom\u001b[39;00m\u001b[38;5;250m \u001b[39m\u001b[34;01msycophancy_analysis\u001b[39;00m\u001b[34;01m.\u001b[39;00m\u001b[34;01mscoring\u001b[39;00m\u001b[38;5;250m \u001b[39m\u001b[38;5;28;01mimport\u001b[39;00m build_sss\n\u001b[32m     18\u001b[39m \u001b[38;5;66;03m# Set up plotting\u001b[39;00m\n",
      "\u001b[31mImportError\u001b[39m: cannot import name 'create_heatmap' from 'sycophancy_analysis.visualization' (e:\\Working\\Posts\\LLM Sychopancy Analysis\\sycophancy_analysis\\visualization\\__init__.py)"
     ]
    }
   ],
   "source": [
    "import pandas as pd\n",
    "import numpy as np\n",
    "import matplotlib.pyplot as plt\n",
    "import seaborn as sns\n",
    "from pathlib import Path\n",
    "import sys\n",
    "\n",
    "# Add project root to path\n",
    "project_root = Path().absolute().parent\n",
    "sys.path.append(str(project_root))\n",
    "\n",
    "from sycophancy_analysis.visualization import (\n",
    "    plot_network, create_heatmap, compute_sycophancy_index,\n",
    "    create_network_sidecar\n",
    ")\n",
    "from sycophancy_analysis.scoring import build_sss\n",
    "\n",
    "# Set up plotting\n",
    "plt.style.use('default')\n",
    "sns.set_palette(\"husl\")\n",
    "%matplotlib inline"
   ]
  },
  {
   "cell_type": "markdown",
   "metadata": {},
   "source": [
    "## 1. Load Data"
   ]
  },
  {
   "cell_type": "code",
   "execution_count": null,
   "metadata": {},
   "outputs": [],
   "source": [
    "# Define data paths\n",
    "results_dir = project_root / \"results\" / \"efficient_combined_1_1b\"\n",
    "sss_scores_path = results_dir / \"sss_scores.csv\"\n",
    "scored_rows_path = results_dir / \"scored_rows.csv\"\n",
    "\n",
    "# Load data\n",
    "sss_scores = pd.read_csv(sss_scores_path)\n",
    "scored_rows = pd.read_csv(scored_rows_path)\n",
    "\n",
    "print(f\"SSS Scores shape: {sss_scores.shape}\")\n",
    "print(f\"Scored Rows shape: {scored_rows.shape}\")\n",
    "print(f\"\\nModels analyzed: {len(sss_scores)}\")\n",
    "print(f\"Total responses: {len(scored_rows)}\")"
   ]
  },
  {
   "cell_type": "markdown",
   "metadata": {},
   "source": [
    "## 2. SSS Scores Overview"
   ]
  },
  {
   "cell_type": "code",
   "execution_count": null,
   "metadata": {},
   "outputs": [],
   "source": [
    "# Display SSS scores\n",
    "print(\"SSS Scores Summary:\")\n",
    "display(sss_scores)\n",
    "\n",
    "# Basic statistics\n",
    "print(\"\\nSSS Score Statistics:\")\n",
    "sss_numeric = sss_scores.select_dtypes(include=[np.number])\n",
    "display(sss_numeric.describe())"
   ]
  },
  {
   "cell_type": "markdown",
   "metadata": {},
   "source": [
    "## 3. Network Visualization with Adjustable Parameters\n",
    "\n",
    "### 3.1 Network Plot Configuration"
   ]
  },
  {
   "cell_type": "code",
   "execution_count": null,
   "metadata": {},
   "outputs": [],
   "source": [
    "# Network plot parameters - ADJUST THESE AS NEEDED\n",
    "network_params = {\n",
    "    'figsize': (12, 10),           # Figure size\n",
    "    'node_size_base': 300,         # Base node size\n",
    "    'node_size_scale': 1000,       # Node size scaling factor\n",
    "    'edge_width_base': 0.5,        # Base edge width\n",
    "    'edge_width_scale': 3.0,       # Edge width scaling factor\n",
    "    'edge_alpha': 0.6,             # Edge transparency\n",
    "    'similarity_threshold': 0.1,   # Minimum similarity to show edge\n",
    "    'layout_k': 1.0,               # Spring layout spacing parameter\n",
    "    'layout_iterations': 50,       # Spring layout iterations\n",
    "    'font_size': 10,               # Node label font size\n",
    "    'show_edge_labels': False,     # Whether to show edge weight labels\n",
    "    'community_colors': True,      # Use community-based coloring\n",
    "    'highlight_bridges': True,     # Highlight bridge edges\n",
    "    'bridge_color': 'red',         # Color for bridge edges\n",
    "    'bridge_width': 2.0,           # Width for bridge edges\n",
    "}\n",
    "\n",
    "print(\"Network visualization parameters:\")\n",
    "for key, value in network_params.items():\n",
    "    print(f\"  {key}: {value}\")"
   ]
  },
  {
   "cell_type": "markdown",
   "metadata": {},
   "source": [
    "### 3.2 Build Similarity Matrix and Network"
   ]
  },
  {
   "cell_type": "code",
   "execution_count": null,
   "metadata": {},
   "outputs": [],
   "source": [
    "# Build SSS similarity matrix from scored rows\n",
    "print(\"Building similarity matrix...\")\n",
    "sss_result = build_sss(scored_rows)\n",
    "\n",
    "# Extract components\n",
    "similarity_matrix = sss_result['similarity_matrix']\n",
    "model_names = sss_result['model_names']\n",
    "distance_matrix = sss_result['distance_matrix']\n",
    "\n",
    "print(f\"Similarity matrix shape: {similarity_matrix.shape}\")\n",
    "print(f\"Model names: {model_names}\")\n",
    "print(f\"\\nSimilarity matrix statistics:\")\n",
    "print(f\"  Min: {similarity_matrix.min():.3f}\")\n",
    "print(f\"  Max: {similarity_matrix.max():.3f}\")\n",
    "print(f\"  Mean: {similarity_matrix.mean():.3f}\")\n",
    "print(f\"  Std: {similarity_matrix.std():.3f}\")"
   ]
  },
  {
   "cell_type": "markdown",
   "metadata": {},
   "source": [
    "### 3.3 Generate Network Plot"
   ]
  },
  {
   "cell_type": "code",
   "execution_count": null,
   "metadata": {},
   "outputs": [],
   "source": [
    "# Create network plot with custom parameters\n",
    "fig, ax = plt.subplots(figsize=network_params['figsize'])\n",
    "\n",
    "# Generate network plot\n",
    "network_data = plot_network(\n",
    "    similarity_matrix=similarity_matrix,\n",
    "    model_names=model_names,\n",
    "    save_path=None,  # Don't save, just display\n",
    "    figsize=network_params['figsize'],\n",
    "    node_size_base=network_params['node_size_base'],\n",
    "    node_size_scale=network_params['node_size_scale'],\n",
    "    edge_width_base=network_params['edge_width_base'],\n",
    "    edge_width_scale=network_params['edge_width_scale'],\n",
    "    edge_alpha=network_params['edge_alpha'],\n",
    "    similarity_threshold=network_params['similarity_threshold'],\n",
    "    layout_k=network_params['layout_k'],\n",
    "    layout_iterations=network_params['layout_iterations'],\n",
    "    font_size=network_params['font_size'],\n",
    "    show_edge_labels=network_params['show_edge_labels'],\n",
    "    community_colors=network_params['community_colors'],\n",
    "    highlight_bridges=network_params['highlight_bridges'],\n",
    "    bridge_color=network_params['bridge_color'],\n",
    "    bridge_width=network_params['bridge_width']\n",
    ")\n",
    "\n",
    "plt.title(\"LLM Sycophancy Network - Efficient Combined 1_1b\", fontsize=16, fontweight='bold')\n",
    "plt.tight_layout()\n",
    "plt.show()\n",
    "\n",
    "# Print network statistics\n",
    "if network_data:\n",
    "    print(\"\\nNetwork Statistics:\")\n",
    "    print(f\"  Nodes: {network_data.get('num_nodes', 'N/A')}\")\n",
    "    print(f\"  Edges: {network_data.get('num_edges', 'N/A')}\")\n",
    "    print(f\"  Communities: {network_data.get('num_communities', 'N/A')}\")\n",
    "    print(f\"  Modularity: {network_data.get('modularity', 'N/A'):.3f}\")\n",
    "    print(f\"  Bridge edges: {network_data.get('num_bridges', 'N/A')}\")"
   ]
  },
  {
   "cell_type": "markdown",
   "metadata": {},
   "source": [
    "### 3.4 Alternative Network Layouts\n",
    "\n",
    "Try different layout parameters for comparison:"
   ]
  },
  {
   "cell_type": "code",
   "execution_count": null,
   "metadata": {},
   "outputs": [],
   "source": [
    "# Create multiple network plots with different parameters\n",
    "layout_variants = [\n",
    "    {'k': 0.5, 'iterations': 30, 'title': 'Tight Layout (k=0.5)'},\n",
    "    {'k': 1.5, 'iterations': 50, 'title': 'Loose Layout (k=1.5)'},\n",
    "    {'k': 2.0, 'iterations': 100, 'title': 'Very Loose Layout (k=2.0)'}\n",
    "]\n",
    "\n",
    "fig, axes = plt.subplots(1, 3, figsize=(18, 6))\n",
    "\n",
    "for i, variant in enumerate(layout_variants):\n",
    "    ax = axes[i]\n",
    "    \n",
    "    # Create network plot with variant parameters\n",
    "    plot_network(\n",
    "        similarity_matrix=similarity_matrix,\n",
    "        model_names=model_names,\n",
    "        save_path=None,\n",
    "        figsize=(6, 6),\n",
    "        layout_k=variant['k'],\n",
    "        layout_iterations=variant['iterations'],\n",
    "        similarity_threshold=network_params['similarity_threshold'],\n",
    "        ax=ax\n",
    "    )\n",
    "    \n",
    "    ax.set_title(variant['title'], fontsize=12, fontweight='bold')\n",
    "\n",
    "plt.tight_layout()\n",
    "plt.show()"
   ]
  },
  {
   "cell_type": "markdown",
   "metadata": {},
   "source": [
    "## 4. Similarity Heatmap"
   ]
  },
  {
   "cell_type": "code",
   "execution_count": null,
   "metadata": {},
   "outputs": [],
   "source": [
    "# Create similarity heatmap\n",
    "heatmap_chart = create_heatmap(\n",
    "    similarity_matrix=similarity_matrix,\n",
    "    model_names=model_names,\n",
    "    title=\"LLM Sycophancy Similarity Heatmap - Efficient Combined 1_1b\"\n",
    ")\n",
    "\n",
    "# Display the heatmap\n",
    "heatmap_chart.show()\n",
    "\n",
    "# Also create a matplotlib version for more control\n",
    "plt.figure(figsize=(10, 8))\n",
    "mask = np.triu(np.ones_like(similarity_matrix, dtype=bool))\n",
    "sns.heatmap(\n",
    "    similarity_matrix,\n",
    "    mask=mask,\n",
    "    annot=True,\n",
    "    fmt='.3f',\n",
    "    cmap='RdYlBu_r',\n",
    "    center=0.5,\n",
    "    xticklabels=model_names,\n",
    "    yticklabels=model_names,\n",
    "    cbar_kws={'label': 'Similarity Score'}\n",
    ")\n",
    "plt.title('LLM Sycophancy Similarity Matrix', fontsize=14, fontweight='bold')\n",
    "plt.xticks(rotation=45, ha='right')\n",
    "plt.yticks(rotation=0)\n",
    "plt.tight_layout()\n",
    "plt.show()"
   ]
  },
  {
   "cell_type": "markdown",
   "metadata": {},
   "source": [
    "## 5. Sycophancy Index Analysis"
   ]
  },
  {
   "cell_type": "code",
   "execution_count": null,
   "metadata": {},
   "outputs": [],
   "source": [
    "# Compute Sycophancy Index for each model\n",
    "sycophancy_indices = compute_sycophancy_index(\n",
    "    similarity_matrix=similarity_matrix,\n",
    "    model_names=model_names\n",
    ")\n",
    "\n",
    "# Create DataFrame for easier analysis\n",
    "si_df = pd.DataFrame({\n",
    "    'Model': model_names,\n",
    "    'Sycophancy_Index': sycophancy_indices\n",
    "}).sort_values('Sycophancy_Index', ascending=False)\n",
    "\n",
    "print(\"Sycophancy Index Rankings:\")\n",
    "display(si_df)\n",
    "\n",
    "# Visualize Sycophancy Index\n",
    "plt.figure(figsize=(12, 6))\n",
    "bars = plt.bar(range(len(si_df)), si_df['Sycophancy_Index'], \n",
    "               color=plt.cm.RdYlBu_r(si_df['Sycophancy_Index']))\n",
    "plt.xlabel('Models')\n",
    "plt.ylabel('Sycophancy Index')\n",
    "plt.title('Sycophancy Index by Model', fontsize=14, fontweight='bold')\n",
    "plt.xticks(range(len(si_df)), si_df['Model'], rotation=45, ha='right')\n",
    "plt.grid(axis='y', alpha=0.3)\n",
    "\n",
    "# Add value labels on bars\n",
    "for i, bar in enumerate(bars):\n",
    "    height = bar.get_height()\n",
    "    plt.text(bar.get_x() + bar.get_width()/2., height + 0.01,\n",
    "             f'{height:.3f}', ha='center', va='bottom', fontsize=9)\n",
    "\n",
    "plt.tight_layout()\n",
    "plt.show()"
   ]
  },
  {
   "cell_type": "markdown",
   "metadata": {},
   "source": [
    "## 6. Response-Level Analysis"
   ]
  },
  {
   "cell_type": "code",
   "execution_count": null,
   "metadata": {},
   "outputs": [],
   "source": [
    "# Analyze response patterns\n",
    "print(\"Response-Level Analysis:\")\n",
    "print(f\"Total responses: {len(scored_rows)}\")\n",
    "print(f\"Unique models: {scored_rows['model'].nunique()}\")\n",
    "print(f\"Unique prompts: {scored_rows['prompt_id'].nunique()}\")\n",
    "\n",
    "# Prediction label distribution\n",
    "print(\"\\nPrediction Label Distribution:\")\n",
    "pred_counts = scored_rows['pred_label'].value_counts()\n",
    "display(pred_counts)\n",
    "\n",
    "# Visualize prediction distribution by model\n",
    "plt.figure(figsize=(12, 6))\n",
    "pred_by_model = scored_rows.groupby(['model', 'pred_label']).size().unstack(fill_value=0)\n",
    "pred_by_model.plot(kind='bar', stacked=True, ax=plt.gca())\n",
    "plt.title('Prediction Label Distribution by Model', fontsize=14, fontweight='bold')\n",
    "plt.xlabel('Model')\n",
    "plt.ylabel('Count')\n",
    "plt.xticks(rotation=45, ha='right')\n",
    "plt.legend(title='Prediction Label', bbox_to_anchor=(1.05, 1), loc='upper left')\n",
    "plt.tight_layout()\n",
    "plt.show()"
   ]
  },
  {
   "cell_type": "markdown",
   "metadata": {},
   "source": [
    "## 7. Sycophancy Behavior Patterns"
   ]
  },
  {
   "cell_type": "code",
   "execution_count": null,
   "metadata": {},
   "outputs": [],
   "source": [
    "# Analyze sycophancy behavior patterns\n",
    "behavior_cols = ['endorse_stance', 'challenge', 'harm_validation', 'devil_advocate',\n",
    "                'flattery_density', 'intens_density', 'hedge_density', \n",
    "                'refusal_markers', 'safe_alt_markers', 'evasion_markers']\n",
    "\n",
    "# Calculate mean behavior scores by model\n",
    "behavior_by_model = scored_rows.groupby('model')[behavior_cols].mean()\n",
    "\n",
    "print(\"Mean Behavior Scores by Model:\")\n",
    "display(behavior_by_model.round(3))\n",
    "\n",
    "# Create heatmap of behavior patterns\n",
    "plt.figure(figsize=(12, 8))\n",
    "sns.heatmap(\n",
    "    behavior_by_model.T,\n",
    "    annot=True,\n",
    "    fmt='.3f',\n",
    "    cmap='RdYlBu_r',\n",
    "    center=0.25,\n",
    "    cbar_kws={'label': 'Mean Score'}\n",
    ")\n",
    "plt.title('Sycophancy Behavior Patterns by Model', fontsize=14, fontweight='bold')\n",
    "plt.xlabel('Model')\n",
    "plt.ylabel('Behavior Dimension')\n",
    "plt.xticks(rotation=45, ha='right')\n",
    "plt.tight_layout()\n",
    "plt.show()"
   ]
  },
  {
   "cell_type": "markdown",
   "metadata": {},
   "source": [
    "## 8. Harmful vs Non-Harmful Response Analysis"
   ]
  },
  {
   "cell_type": "code",
   "execution_count": null,
   "metadata": {},
   "outputs": [],
   "source": [
    "# Analyze differences between harmful and non-harmful prompts\n",
    "harm_analysis = scored_rows.groupby(['model', 'is_harmful'])[behavior_cols].mean().round(3)\n",
    "\n",
    "print(\"Behavior Differences: Harmful vs Non-Harmful Prompts\")\n",
    "display(harm_analysis)\n",
    "\n",
    "# Visualize the difference\n",
    "fig, axes = plt.subplots(2, 1, figsize=(14, 10))\n",
    "\n",
    "# Non-harmful prompts\n",
    "non_harmful = harm_analysis.xs(False, level='is_harmful')\n",
    "sns.heatmap(non_harmful.T, annot=True, fmt='.3f', cmap='RdYlBu_r', \n",
    "           center=0.25, ax=axes[0], cbar_kws={'label': 'Mean Score'})\n",
    "axes[0].set_title('Non-Harmful Prompts - Behavior Patterns', fontweight='bold')\n",
    "axes[0].set_xlabel('')\n",
    "\n",
    "# Harmful prompts\n",
    "harmful = harm_analysis.xs(True, level='is_harmful')\n",
    "sns.heatmap(harmful.T, annot=True, fmt='.3f', cmap='RdYlBu_r', \n",
    "           center=0.25, ax=axes[1], cbar_kws={'label': 'Mean Score'})\n",
    "axes[1].set_title('Harmful Prompts - Behavior Patterns', fontweight='bold')\n",
    "axes[1].set_xlabel('Model')\n",
    "\n",
    "for ax in axes:\n",
    "    ax.tick_params(axis='x', rotation=45)\n",
    "\n",
    "plt.tight_layout()\n",
    "plt.show()"
   ]
  },
  {
   "cell_type": "markdown",
   "metadata": {},
   "source": [
    "## 9. Export Network Metadata"
   ]
  },
  {
   "cell_type": "code",
   "execution_count": null,
   "metadata": {},
   "outputs": [],
   "source": [
    "# Create network metadata sidecar for reproducibility\n",
    "metadata_path = results_dir / \"network_analysis.meta.json\"\n",
    "\n",
    "network_metadata = create_network_sidecar(\n",
    "    similarity_matrix=similarity_matrix,\n",
    "    model_names=model_names,\n",
    "    save_path=str(metadata_path),\n",
    "    **network_params\n",
    ")\n",
    "\n",
    "print(f\"Network metadata saved to: {metadata_path}\")\n",
    "print(\"\\nMetadata includes:\")\n",
    "if network_metadata:\n",
    "    for key in network_metadata.keys():\n",
    "        print(f\"  - {key}\")"
   ]
  },
  {
   "cell_type": "markdown",
   "metadata": {},
   "source": [
    "## 10. Summary and Insights"
   ]
  },
  {
   "cell_type": "code",
   "execution_count": null,
   "metadata": {},
   "outputs": [],
   "source": [
    "print(\"=\" * 60)\n",
    "print(\"ANALYSIS SUMMARY - Efficient Combined 1_1b Results\")\n",
    "print(\"=\" * 60)\n",
    "\n",
    "print(f\"\\n📊 Dataset Overview:\")\n",
    "print(f\"   • Models analyzed: {len(sss_scores)}\")\n",
    "print(f\"   • Total responses: {len(scored_rows)}\")\n",
    "print(f\"   • Unique prompts: {scored_rows['prompt_id'].nunique()}\")\n",
    "\n",
    "print(f\"\\n🎯 Top Sycophantic Models:\")\n",
    "top_3 = si_df.head(3)\n",
    "for i, (_, row) in enumerate(top_3.iterrows(), 1):\n",
    "    print(f\"   {i}. {row['Model']}: {row['Sycophancy_Index']:.3f}\")\n",
    "\n",
    "print(f\"\\n🔗 Network Characteristics:\")\n",
    "if network_data:\n",
    "    print(f\"   • Communities detected: {network_data.get('num_communities', 'N/A')}\")\n",
    "    print(f\"   • Network modularity: {network_data.get('modularity', 'N/A'):.3f}\")\n",
    "    print(f\"   • Bridge connections: {network_data.get('num_bridges', 'N/A')}\")\n",
    "\n",
    "print(f\"\\n📈 Response Patterns:\")\n",
    "agreement_pct = (scored_rows['pred_label'] == 'AGREEMENT').mean() * 100\n",
    "print(f\"   • Agreement responses: {agreement_pct:.1f}%\")\n",
    "harmful_pct = scored_rows['is_harmful'].mean() * 100\n",
    "print(f\"   • Harmful prompts: {harmful_pct:.1f}%\")\n",
    "\n",
    "print(f\"\\n🔧 Network Parameters Used:\")\n",
    "print(f\"   • Similarity threshold: {network_params['similarity_threshold']}\")\n",
    "print(f\"   • Layout spacing (k): {network_params['layout_k']}\")\n",
    "print(f\"   • Layout iterations: {network_params['layout_iterations']}\")\n",
    "\n",
    "print(\"\\n\" + \"=\" * 60)"
   ]
  }
 ],
 "metadata": {
  "kernelspec": {
   "display_name": ".venv",
   "language": "python",
   "name": "python3"
  },
  "language_info": {
   "codemirror_mode": {
    "name": "ipython",
    "version": 3
   },
   "file_extension": ".py",
   "mimetype": "text/x-python",
   "name": "python",
   "nbconvert_exporter": "python",
   "pygments_lexer": "ipython3",
   "version": "3.11.6"
  }
 },
 "nbformat": 4,
 "nbformat_minor": 4
}
